{
 "cells": [
  {
   "cell_type": "code",
   "execution_count": 1,
   "metadata": {},
   "outputs": [
    {
     "name": "stdout",
     "output_type": "stream",
     "text": [
      "       species  class_encoded\n",
      "0       Adelie              0\n",
      "1       Adelie              0\n",
      "2       Adelie              0\n",
      "4       Adelie              0\n",
      "5       Adelie              0\n",
      "..         ...            ...\n",
      "215  Chinstrap              1\n",
      "216  Chinstrap              1\n",
      "217  Chinstrap              1\n",
      "218  Chinstrap              1\n",
      "219  Chinstrap              1\n",
      "\n",
      "[214 rows x 2 columns]\n"
     ]
    }
   ],
   "source": [
    "import seaborn as sns\n",
    "import pandas as pd\n",
    "from sklearn.model_selection import train_test_split\n",
    "from sklearn.preprocessing import LabelEncoder\n",
    "from sklearn.linear_model import LogisticRegression\n",
    "from sklearn.metrics import accuracy_score\n",
    "# Load the penguins dataset\n",
    "df = sns.load_dataset (\"penguins\")\n",
    "df.dropna ( inplace = True )\n",
    "# Filter rows for 'Adelie ' and 'Chinstrap ' classes\n",
    "selected_classes = ['Adelie', 'Chinstrap']\n",
    "df_filtered = df [ df ['species'].isin ( selected_classes ) ].copy () # Make a copy to avoid the warning\n",
    "# Initialize the LabelEncoder\n",
    "le = LabelEncoder ()\n",
    "# Encode the species column\n",
    "y_encoded = le.fit_transform ( df_filtered ['species'])\n",
    "df_filtered ['class_encoded'] = y_encoded\n",
    "# Display the filtered and encoded DataFrame\n",
    "print ( df_filtered [[ 'species', 'class_encoded']])\n",
    "# Split the data into features (X) and target variable (y)\n",
    "y = df_filtered ['class_encoded'] # Target variable\n",
    "#print(df_filtered)\n",
    "X = df_filtered.drop ([ 'species', 'island', 'sex', 'class_encoded'] , axis =1)\n",
    "#print(X)"
   ]
  },
  {
   "cell_type": "code",
   "execution_count": 16,
   "metadata": {},
   "outputs": [
    {
     "name": "stdout",
     "output_type": "stream",
     "text": [
      " Accuracy : 0.5813953488372093\n",
      "[[ 2.75564698e-03 -7.97147157e-05  4.83377639e-04 -2.87599568e-04]] [-8.37632221e-06]\n"
     ]
    },
    {
     "name": "stderr",
     "output_type": "stream",
     "text": [
      "c:\\Users\\HP\\AppData\\Local\\Programs\\Python\\Python311\\Lib\\site-packages\\sklearn\\linear_model\\_sag.py:350: ConvergenceWarning: The max_iter was reached which means the coef_ did not converge\n",
      "  warnings.warn(\n"
     ]
    }
   ],
   "source": [
    "# Split the data into training and testing sets\n",
    "X_train , X_test , y_train , y_test = train_test_split (X , y ,test_size =0.2 , random_state =42)\n",
    "#Train the logistic regression model . Here we are using saga solver to learn weights .\n",
    "logreg = LogisticRegression ( solver ='saga')\n",
    "logreg.fit ( X_train , y_train )\n",
    "# Predict on the testing data\n",
    "y_pred = logreg.predict ( X_test )\n",
    "# Evaluate the model\n",
    "accuracy = accuracy_score ( y_test , y_pred )\n",
    "print (\" Accuracy :\", accuracy )\n",
    "print ( logreg.coef_ , logreg.intercept_ )"
   ]
  },
  {
   "cell_type": "code",
   "execution_count": null,
   "metadata": {},
   "outputs": [],
   "source": []
  }
 ],
 "metadata": {
  "kernelspec": {
   "display_name": "Python 3",
   "language": "python",
   "name": "python3"
  },
  "language_info": {
   "codemirror_mode": {
    "name": "ipython",
    "version": 3
   },
   "file_extension": ".py",
   "mimetype": "text/x-python",
   "name": "python",
   "nbconvert_exporter": "python",
   "pygments_lexer": "ipython3",
   "version": "3.11.7"
  }
 },
 "nbformat": 4,
 "nbformat_minor": 2
}
